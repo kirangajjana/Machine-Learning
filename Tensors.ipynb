{
  "nbformat": 4,
  "nbformat_minor": 0,
  "metadata": {
    "colab": {
      "provenance": []
    },
    "kernelspec": {
      "name": "python3",
      "display_name": "Python 3"
    },
    "language_info": {
      "name": "python"
    }
  },
  "cells": [
    {
      "cell_type": "code",
      "execution_count": 1,
      "metadata": {
        "id": "cROn0nQ35NwN"
      },
      "outputs": [],
      "source": [
        "import numpy as np"
      ]
    },
    {
      "cell_type": "code",
      "source": [
        "a=np.array(45)"
      ],
      "metadata": {
        "id": "E7Le1BeCck7S"
      },
      "execution_count": 2,
      "outputs": []
    },
    {
      "cell_type": "code",
      "source": [
        "a"
      ],
      "metadata": {
        "colab": {
          "base_uri": "https://localhost:8080/"
        },
        "id": "oV3dBfV9cn36",
        "outputId": "aa3732a8-2bfa-497c-99db-656bfd5bb84e"
      },
      "execution_count": 3,
      "outputs": [
        {
          "output_type": "execute_result",
          "data": {
            "text/plain": [
              "array(45)"
            ]
          },
          "metadata": {},
          "execution_count": 3
        }
      ]
    },
    {
      "cell_type": "code",
      "source": [
        "a.ndim"
      ],
      "metadata": {
        "colab": {
          "base_uri": "https://localhost:8080/"
        },
        "id": "Act5vtUOcoh-",
        "outputId": "238b6089-acc0-4dd9-b509-4dc805bb2a66"
      },
      "execution_count": 5,
      "outputs": [
        {
          "output_type": "execute_result",
          "data": {
            "text/plain": [
              "0"
            ]
          },
          "metadata": {},
          "execution_count": 5
        }
      ]
    },
    {
      "cell_type": "markdown",
      "source": [
        "0D Tensor or Scaler ex:1 or 2 or 3 any single  number comes under 0d tensor where the dimension is zero"
      ],
      "metadata": {
        "id": "w6YZsJnbc6cX"
      }
    },
    {
      "cell_type": "markdown",
      "source": [
        "1D Tensor/vector/Array"
      ],
      "metadata": {
        "id": "PBmKxN3LdTiv"
      }
    },
    {
      "cell_type": "code",
      "source": [
        "arr=np.array([1,2,3,4])"
      ],
      "metadata": {
        "id": "5HVaKGradLNn"
      },
      "execution_count": 7,
      "outputs": []
    },
    {
      "cell_type": "code",
      "source": [
        "arr"
      ],
      "metadata": {
        "colab": {
          "base_uri": "https://localhost:8080/"
        },
        "id": "OfWrMWNGd-Of",
        "outputId": "5a78d441-606c-4453-86a4-8bcac9874f48"
      },
      "execution_count": 8,
      "outputs": [
        {
          "output_type": "execute_result",
          "data": {
            "text/plain": [
              "array([1, 2, 3, 4])"
            ]
          },
          "metadata": {},
          "execution_count": 8
        }
      ]
    },
    {
      "cell_type": "markdown",
      "source": [
        "1.the above 1D we can say that as Vector or 1D tensor or Array:\n",
        "Dimension of the vectors depents on the elements inside the vector if we have total 4 elements inside the vector then we can say the dimension of the vector is 4...\n",
        "\n",
        "\n",
        "2.By combining the scaler we can make an vector\n",
        "eg:-combination of two to 3 scaler we can make them as vectors\n"
      ],
      "metadata": {
        "id": "Ujvz0J3EeFIZ"
      }
    },
    {
      "cell_type": "code",
      "source": [
        "arr.ndim"
      ],
      "metadata": {
        "colab": {
          "base_uri": "https://localhost:8080/"
        },
        "id": "LWlOKN8SeDiT",
        "outputId": "f943fb19-9438-4a27-bb50-2410bd47e691"
      },
      "execution_count": 9,
      "outputs": [
        {
          "output_type": "execute_result",
          "data": {
            "text/plain": [
              "1"
            ]
          },
          "metadata": {},
          "execution_count": 9
        }
      ]
    },
    {
      "cell_type": "markdown",
      "source": [
        "2D Tensors/Matrix"
      ],
      "metadata": {
        "id": "nV6V2gOrfWLj"
      }
    },
    {
      "cell_type": "code",
      "source": [
        "md=np.array([[1,2,3],[4,5,6],[7,8,9]])"
      ],
      "metadata": {
        "id": "6vpy7L8LeaDo"
      },
      "execution_count": 10,
      "outputs": []
    },
    {
      "cell_type": "code",
      "source": [
        "md"
      ],
      "metadata": {
        "colab": {
          "base_uri": "https://localhost:8080/"
        },
        "id": "HZh9zvwzfusz",
        "outputId": "1543ce6b-e812-4e93-8cd3-db68b782f6ba"
      },
      "execution_count": 11,
      "outputs": [
        {
          "output_type": "execute_result",
          "data": {
            "text/plain": [
              "array([[1, 2, 3],\n",
              "       [4, 5, 6],\n",
              "       [7, 8, 9]])"
            ]
          },
          "metadata": {},
          "execution_count": 11
        }
      ]
    },
    {
      "cell_type": "code",
      "source": [
        "md.ndim"
      ],
      "metadata": {
        "colab": {
          "base_uri": "https://localhost:8080/"
        },
        "id": "kmdE_Ldof_EQ",
        "outputId": "1068ec93-b2ec-401b-f1d5-d4acf74e1b38"
      },
      "execution_count": 12,
      "outputs": [
        {
          "output_type": "execute_result",
          "data": {
            "text/plain": [
              "2"
            ]
          },
          "metadata": {},
          "execution_count": 12
        }
      ]
    },
    {
      "cell_type": "markdown",
      "source": [
        "1. collection of vectors we can call them as matrix\n",
        "\n",
        "2.2D matrix consists of 2 axis and 2 dimensions\n"
      ],
      "metadata": {
        "id": "CntEyqNjfxN_"
      }
    },
    {
      "cell_type": "markdown",
      "source": [
        "ND Tensor"
      ],
      "metadata": {
        "id": "W6Zc5gysgMab"
      }
    },
    {
      "cell_type": "code",
      "source": [],
      "metadata": {
        "id": "OTvlmY6wfvXy"
      },
      "execution_count": null,
      "outputs": []
    }
  ]
}